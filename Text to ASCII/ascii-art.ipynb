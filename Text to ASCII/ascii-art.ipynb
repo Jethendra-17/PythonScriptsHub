{
 "cells": [
  {
   "cell_type": "code",
   "execution_count": null,
   "metadata": {},
   "outputs": [],
   "source": [
    "pip install pyfiglet"
   ]
  },
  {
   "cell_type": "code",
   "execution_count": null,
   "metadata": {},
   "outputs": [],
   "source": [
    "import pyfiglet\n",
    "\n",
    "def text_to_ascii_art(text):\n",
    "    ascii_art = pyfiglet.figlet_format(text)\n",
    "    return ascii_art\n",
    "\n",
    "def main():\n",
    "    user_text = input(\"Enter the text you want to convert into ASCII art: \")\n",
    "    ascii_art = text_to_ascii_art(user_text)\n",
    "    print(ascii_art)\n",
    "\n",
    "if __name__ == \"__main__\":\n",
    "    main()\n"
   ]
  }
 ],
 "metadata": {
  "kernelspec": {
   "display_name": "Python 3",
   "language": "python",
   "name": "python3"
  },
  "language_info": {
   "codemirror_mode": {
    "name": "ipython",
    "version": 3
   },
   "file_extension": ".py",
   "mimetype": "text/x-python",
   "name": "python",
   "nbconvert_exporter": "python",
   "pygments_lexer": "ipython3",
   "version": "3.10.11"
  }
 },
 "nbformat": 4,
 "nbformat_minor": 2
}
