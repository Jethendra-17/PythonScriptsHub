{
 "cells": [
  {
   "cell_type": "code",
   "execution_count": null,
   "metadata": {},
   "outputs": [],
   "source": [
    "pip install pillow"
   ]
  },
  {
   "cell_type": "code",
   "execution_count": 1,
   "metadata": {},
   "outputs": [
    {
     "name": "stdout",
     "output_type": "stream",
     "text": [
      "Meme generated and saved as output.png\n"
     ]
    }
   ],
   "source": [
    "from PIL import Image, ImageDraw, ImageFont\n",
    "\n",
    "def text_width(font, text):\n",
    "    mask = font.getmask(text)\n",
    "    return mask.getbbox()[2] - mask.getbbox()[0]\n",
    "\n",
    "def generate_meme(input_image_path, output_image_path, top_text, bottom_text, max_text_length=20, font_path='arial.ttf', min_font_size=10, max_font_size=100):\n",
    "    try:\n",
    "        # Open the input image\n",
    "        img = Image.open(input_image_path)\n",
    "        draw = ImageDraw.Draw(img)\n",
    "        \n",
    "        # Get image width and height\n",
    "        width, height = img.size\n",
    "        \n",
    "        # Load font\n",
    "        try:\n",
    "            font_size = max_font_size\n",
    "            font = ImageFont.truetype(font_path, font_size)\n",
    "        except IOError:\n",
    "            font = ImageFont.load_default()\n",
    "\n",
    "        # Calculate top text size and position\n",
    "        top_text_length = min(len(top_text), max_text_length)\n",
    "        while text_width(font, top_text[:top_text_length]) > width:\n",
    "            font_size -= 1\n",
    "            font = ImageFont.truetype(font_path, font_size)\n",
    "        x = (width - text_width(font, top_text[:top_text_length])) // 2\n",
    "        y = 10\n",
    "        \n",
    "        # Add top text to the image\n",
    "        draw.text((x, y), top_text[:top_text_length], font=font, fill='white')\n",
    "        \n",
    "        # Calculate bottom text size and position\n",
    "        bottom_text_length = min(len(bottom_text), max_text_length)\n",
    "        while text_width(font, bottom_text[:bottom_text_length]) > width:\n",
    "            font_size -= 1\n",
    "            font = ImageFont.truetype(font_path, font_size)\n",
    "        x = (width - text_width(font, bottom_text[:bottom_text_length])) // 2\n",
    "        text_bbox = draw.textbbox((x, y), bottom_text[:bottom_text_length], font=font)\n",
    "        y = height - text_bbox[1] - 10\n",
    "        \n",
    "        # Add bottom text to the image\n",
    "        draw.text((x, y), bottom_text[:bottom_text_length], font=font, fill='white')\n",
    "        \n",
    "        # Save the final meme\n",
    "        img.save(output_image_path)\n",
    "        print(f\"Meme generated and saved as {output_image_path}\")\n",
    "    except Exception as e:\n",
    "        print(f\"Error: {e}\")\n",
    "\n",
    "# Example usage\n",
    "input_image_path = 'input.png'\n",
    "output_image_path = 'output.png'\n",
    "top_text = 'My PC'\n",
    "bottom_text = 'After Starting Android Studio'\n",
    "generate_meme(input_image_path, output_image_path, top_text, bottom_text, max_font_size=70, max_text_length=50)\n"
   ]
  }
 ],
 "metadata": {
  "kernelspec": {
   "display_name": "Python 3",
   "language": "python",
   "name": "python3"
  },
  "language_info": {
   "codemirror_mode": {
    "name": "ipython",
    "version": 3
   },
   "file_extension": ".py",
   "mimetype": "text/x-python",
   "name": "python",
   "nbconvert_exporter": "python",
   "pygments_lexer": "ipython3",
   "version": "3.10.11"
  }
 },
 "nbformat": 4,
 "nbformat_minor": 2
}
