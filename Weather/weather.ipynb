{
 "cells": [
  {
   "cell_type": "code",
   "execution_count": null,
   "metadata": {},
   "outputs": [],
   "source": [
    "pip install requests pillow tk"
   ]
  },
  {
   "cell_type": "code",
   "execution_count": 3,
   "metadata": {},
   "outputs": [],
   "source": [
    "import requests\n",
    "from PIL import Image, ImageTk\n",
    "import tkinter as tk\n",
    "from tkinter import messagebox\n",
    "\n",
    "API_KEY = 'YOUR_API_KEY'\n",
    "\n",
    "def get_weather(city):\n",
    "    url = f'http://api.openweathermap.org/data/2.5/weather?q={city}&appid={API_KEY}'\n",
    "    response = requests.get(url)\n",
    "    data = response.json()\n",
    "    return data\n",
    "\n",
    "def show_weather():\n",
    "    city = city_entry.get()\n",
    "    try:\n",
    "        weather_data = get_weather(city)\n",
    "        temperature = weather_data['main']['temp'] - 273.15  # Convert temperature from Kelvin to Celsius\n",
    "        description = weather_data['weather'][0]['description'].capitalize()\n",
    "        icon_code = weather_data['weather'][0]['icon']\n",
    "\n",
    "        weather_icon_url = f\"http://openweathermap.org/img/w/{icon_code}.png\"\n",
    "        icon_response = requests.get(weather_icon_url, stream=True)\n",
    "        icon_image = Image.open(icon_response.raw).resize((150, 150))\n",
    "        icon_photo = ImageTk.PhotoImage(icon_image)\n",
    "\n",
    "        icon_label.config(image=icon_photo)\n",
    "        icon_label.image = icon_photo\n",
    "        result_label.config(text=f'Temperature: {temperature:.2f}°C\\nDescription: {description}', font=(\"Helvetica\", 16))\n",
    "    except Exception as e:\n",
    "        messagebox.showerror('Error', f'Could not fetch weather data for {city}.')\n",
    "\n",
    "# GUI Setup\n",
    "root = tk.Tk()\n",
    "root.title(\"Weather App\")\n",
    "root.geometry(\"500x500\")  # Set window size\n",
    "\n",
    "root.configure(bg=\"#3498db\")  # Set background color\n",
    "\n",
    "city_label = tk.Label(root, text=\"Enter city:\", bg=\"#3498db\", fg=\"white\", font=(\"Helvetica\", 18))\n",
    "city_label.pack(pady=20)\n",
    "\n",
    "city_entry = tk.Entry(root, font=(\"Helvetica\", 16))\n",
    "city_entry.pack(pady=10)\n",
    "\n",
    "show_weather_button = tk.Button(root, text=\"Show Weather\", command=show_weather, font=(\"Helvetica\", 16))\n",
    "show_weather_button.pack(pady=20)\n",
    "\n",
    "icon_label = tk.Label(root, bg=\"#3498db\")\n",
    "icon_label.pack()\n",
    "\n",
    "result_label = tk.Label(root, text=\"\", bg=\"#3498db\", fg=\"white\", font=(\"Helvetica\", 16))\n",
    "result_label.pack(pady=20)\n",
    "\n",
    "root.mainloop()"
   ]
  }
 ],
 "metadata": {
  "kernelspec": {
   "display_name": "Python 3",
   "language": "python",
   "name": "python3"
  },
  "language_info": {
   "codemirror_mode": {
    "name": "ipython",
    "version": 3
   },
   "file_extension": ".py",
   "mimetype": "text/x-python",
   "name": "python",
   "nbconvert_exporter": "python",
   "pygments_lexer": "ipython3",
   "version": "3.8.10"
  }
 },
 "nbformat": 4,
 "nbformat_minor": 2
}
