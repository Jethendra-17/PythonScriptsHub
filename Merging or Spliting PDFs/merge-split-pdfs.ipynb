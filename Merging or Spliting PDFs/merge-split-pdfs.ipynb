{
 "cells": [
  {
   "cell_type": "code",
   "execution_count": null,
   "metadata": {},
   "outputs": [],
   "source": [
    "pip install PyPDF2"
   ]
  },
  {
   "cell_type": "code",
   "execution_count": null,
   "metadata": {},
   "outputs": [],
   "source": [
    "import PyPDF2\n",
    "\n",
    "def merge_pdfs(input_pdfs, output_pdf):\n",
    "    merger = PyPDF2.PdfFileMerger()\n",
    "\n",
    "    for pdf in input_pdfs:\n",
    "        merger.append(pdf)\n",
    "\n",
    "    merger.write(output_pdf)\n",
    "    merger.close()\n",
    "\n",
    "def split_pdf(input_pdf):\n",
    "    pdf_reader = PyPDF2.PdfFileReader(input_pdf)\n",
    "\n",
    "    for page_num in range(pdf_reader.numPages):\n",
    "        pdf_writer = PyPDF2.PdfFileWriter()\n",
    "        pdf_writer.addPage(pdf_reader.getPage(page_num))\n",
    "\n",
    "        output_pdf = f\"page_{page_num + 1}.pdf\"\n",
    "        with open(output_pdf, \"wb\") as output_file:\n",
    "            pdf_writer.write(output_file)\n",
    "            print(f\"Page {page_num + 1} extracted and saved as {output_pdf}\")\n",
    "\n",
    "choice = int(input(\"What do you want to do?\\n1. Merge PDFs\\n2. Split PDF\\nEnter your choice (1 or 2): \"))\n",
    "\n",
    "if choice == 1:\n",
    "    # Example usage for merging two PDF files\n",
    "    input_pdfs = input(\"Enter the PDFs you want to merge separated by space: \").split()\n",
    "    output_pdf = input(\"Enter the name of the merged PDF: \")\n",
    "    merge_pdfs(input_pdfs, output_pdf)\n",
    "    print(\"PDF files merged successfully.\")\n",
    "elif choice == 2:\n",
    "    # Example usage for splitting a PDF file\n",
    "    input_pdf = input(\"Enter the PDF you want to split: \")\n",
    "    split_pdf(input_pdf)\n",
    "else:\n",
    "    print(\"Invalid choice! Please try again.\")"
   ]
  }
 ],
 "metadata": {
  "kernelspec": {
   "display_name": "Python 3",
   "language": "python",
   "name": "python3"
  },
  "language_info": {
   "codemirror_mode": {
    "name": "ipython",
    "version": 3
   },
   "file_extension": ".py",
   "mimetype": "text/x-python",
   "name": "python",
   "nbconvert_exporter": "python",
   "pygments_lexer": "ipython3",
   "version": "3.10.11"
  }
 },
 "nbformat": 4,
 "nbformat_minor": 2
}
