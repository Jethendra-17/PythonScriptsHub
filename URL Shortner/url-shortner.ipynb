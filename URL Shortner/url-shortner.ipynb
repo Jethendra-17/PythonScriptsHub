{
 "cells": [
  {
   "cell_type": "code",
   "execution_count": null,
   "metadata": {},
   "outputs": [],
   "source": [
    "pip install requests"
   ]
  },
  {
   "cell_type": "code",
   "execution_count": 2,
   "metadata": {},
   "outputs": [
    {
     "name": "stdout",
     "output_type": "stream",
     "text": [
      "Shortened URL: https://bit.ly/3MeqmMR\n"
     ]
    }
   ],
   "source": [
    "import requests\n",
    "\n",
    "# Your Bitly API credentials (replace with your own)\n",
    "BITLY_API_KEY = '*******************************'\n",
    "\n",
    "def shorten_url(long_url):\n",
    "    try:\n",
    "        # Bitly API endpoint for shortening a URL\n",
    "        api_url = 'https://api-ssl.bitly.com/v4/shorten'\n",
    "        headers = {\n",
    "            'Authorization': f'Bearer {BITLY_API_KEY}',\n",
    "            'Content-Type': 'application/json',\n",
    "        }\n",
    "        payload = {\n",
    "            'long_url': long_url,\n",
    "        }\n",
    "        \n",
    "        response = requests.post(api_url, headers=headers, json=payload)\n",
    "        response_data = response.json()\n",
    "        \n",
    "        if 'link' in response_data:\n",
    "            return response_data['link']\n",
    "        else:\n",
    "            return \"URL shortening failed.\"\n",
    "    except Exception as e:\n",
    "        return f\"An error occurred: {str(e)}\"\n",
    "\n",
    "if __name__ == \"__main__\":\n",
    "    url_to_shorten = input(\"Enter the URL you want to shorten: \")\n",
    "    shortened_url = shorten_url(url_to_shorten)\n",
    "    \n",
    "    if shortened_url:\n",
    "        print(\"Shortened URL:\", shortened_url)\n"
   ]
  }
 ],
 "metadata": {
  "kernelspec": {
   "display_name": "Python 3",
   "language": "python",
   "name": "python3"
  },
  "language_info": {
   "codemirror_mode": {
    "name": "ipython",
    "version": 3
   },
   "file_extension": ".py",
   "mimetype": "text/x-python",
   "name": "python",
   "nbconvert_exporter": "python",
   "pygments_lexer": "ipython3",
   "version": "3.10.11"
  }
 },
 "nbformat": 4,
 "nbformat_minor": 2
}
